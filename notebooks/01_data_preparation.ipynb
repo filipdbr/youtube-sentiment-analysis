{
 "cells": [
  {
   "metadata": {},
   "cell_type": "markdown",
   "source": [
    "# 01 - Data Preparation\n",
    "This notebook loads the raw JSON dataset, transforms it into a flat table (one comment per row), and gives a first look at clickbait vs. non-clickbait distribution."
   ],
   "id": "1f915f6b3d5b79bd"
  },
  {
   "metadata": {},
   "cell_type": "markdown",
   "source": [
    "## Setup\n",
    "Firstly, let's import pandas library, data_preparation helper function and set the display options. "
   ],
   "id": "96e9117df1474a91"
  },
  {
   "metadata": {
    "ExecuteTime": {
     "end_time": "2025-04-27T17:28:34.932117Z",
     "start_time": "2025-04-27T17:28:30.135710Z"
    }
   },
   "cell_type": "code",
   "source": [
    "import pandas as pd\n",
    "from src.data.data_preparation import create_dataframe\n",
    "\n",
    "# setting display options\n",
    "pd.set_option('display.max_columns', None)\n",
    "pd.set_option('display.width', 1000)"
   ],
   "id": "51a4ba39ce8146eb",
   "outputs": [],
   "execution_count": 1
  },
  {
   "metadata": {},
   "cell_type": "markdown",
   "source": [
    "## Load and Prepare Data\n",
    "Load the raw JSON and convert it into a pandas DataFrame. The helper function (create_dataframe) splits each comment list into separate rows and renames the column to `text`.\n"
   ],
   "id": "98c047ba651d5aea"
  },
  {
   "metadata": {
    "ExecuteTime": {
     "end_time": "2025-04-27T17:32:22.545999Z",
     "start_time": "2025-04-27T17:32:22.092773Z"
    }
   },
   "cell_type": "code",
   "source": [
    "raw_path = \"../data/raw/youtube_data.json\"\n",
    "data_frame = create_dataframe(raw_path)\n",
    "print(\"Total comments:\", len(data_frame))\n",
    "print(\"Unique videos:\", data_frame.video_id.nunique())"
   ],
   "id": "550002cfa01c3be8",
   "outputs": [
    {
     "name": "stdout",
     "output_type": "stream",
     "text": [
      "Total comments: 66669\n",
      "Unique videos: 20\n"
     ]
    }
   ],
   "execution_count": 5
  },
  {
   "metadata": {},
   "cell_type": "markdown",
   "source": "## Quick Look at the Data",
   "id": "596bd551097bb2ee"
  },
  {
   "metadata": {
    "ExecuteTime": {
     "end_time": "2025-04-27T17:35:34.633550Z",
     "start_time": "2025-04-27T17:35:34.576155Z"
    }
   },
   "cell_type": "code",
   "source": "data_frame.head()",
   "id": "68f1989ce74d21ef",
   "outputs": [
    {
     "data": {
      "text/plain": [
       "      video_id  clickbait                                           metadata                                               text\n",
       "0  9bscSY_FOOA       True  {'title': 'How To Be In A Calorie Deficit With...  Total bs, same advice which all doctors have b...\n",
       "1  9bscSY_FOOA       True  {'title': 'How To Be In A Calorie Deficit With...  I keep my calories under 1500 , my daily meal ...\n",
       "2  9bscSY_FOOA       True  {'title': 'How To Be In A Calorie Deficit With...  What if I only eat one meal and don’t snack th...\n",
       "3  9bscSY_FOOA       True  {'title': 'How To Be In A Calorie Deficit With...  You guys can skip breakfast, if it&#39;s okay ...\n",
       "4  9bscSY_FOOA       True  {'title': 'How To Be In A Calorie Deficit With...  In my experience it’s too easy to cheat if you..."
      ],
      "text/html": [
       "<div>\n",
       "<style scoped>\n",
       "    .dataframe tbody tr th:only-of-type {\n",
       "        vertical-align: middle;\n",
       "    }\n",
       "\n",
       "    .dataframe tbody tr th {\n",
       "        vertical-align: top;\n",
       "    }\n",
       "\n",
       "    .dataframe thead th {\n",
       "        text-align: right;\n",
       "    }\n",
       "</style>\n",
       "<table border=\"1\" class=\"dataframe\">\n",
       "  <thead>\n",
       "    <tr style=\"text-align: right;\">\n",
       "      <th></th>\n",
       "      <th>video_id</th>\n",
       "      <th>clickbait</th>\n",
       "      <th>metadata</th>\n",
       "      <th>text</th>\n",
       "    </tr>\n",
       "  </thead>\n",
       "  <tbody>\n",
       "    <tr>\n",
       "      <th>0</th>\n",
       "      <td>9bscSY_FOOA</td>\n",
       "      <td>True</td>\n",
       "      <td>{'title': 'How To Be In A Calorie Deficit With...</td>\n",
       "      <td>Total bs, same advice which all doctors have b...</td>\n",
       "    </tr>\n",
       "    <tr>\n",
       "      <th>1</th>\n",
       "      <td>9bscSY_FOOA</td>\n",
       "      <td>True</td>\n",
       "      <td>{'title': 'How To Be In A Calorie Deficit With...</td>\n",
       "      <td>I keep my calories under 1500 , my daily meal ...</td>\n",
       "    </tr>\n",
       "    <tr>\n",
       "      <th>2</th>\n",
       "      <td>9bscSY_FOOA</td>\n",
       "      <td>True</td>\n",
       "      <td>{'title': 'How To Be In A Calorie Deficit With...</td>\n",
       "      <td>What if I only eat one meal and don’t snack th...</td>\n",
       "    </tr>\n",
       "    <tr>\n",
       "      <th>3</th>\n",
       "      <td>9bscSY_FOOA</td>\n",
       "      <td>True</td>\n",
       "      <td>{'title': 'How To Be In A Calorie Deficit With...</td>\n",
       "      <td>You guys can skip breakfast, if it&amp;#39;s okay ...</td>\n",
       "    </tr>\n",
       "    <tr>\n",
       "      <th>4</th>\n",
       "      <td>9bscSY_FOOA</td>\n",
       "      <td>True</td>\n",
       "      <td>{'title': 'How To Be In A Calorie Deficit With...</td>\n",
       "      <td>In my experience it’s too easy to cheat if you...</td>\n",
       "    </tr>\n",
       "  </tbody>\n",
       "</table>\n",
       "</div>"
      ]
     },
     "execution_count": 6,
     "metadata": {},
     "output_type": "execute_result"
    }
   ],
   "execution_count": 6
  },
  {
   "metadata": {},
   "cell_type": "markdown",
   "source": "## Clickbait Distribution",
   "id": "67d34264e9faf67a"
  },
  {
   "metadata": {
    "ExecuteTime": {
     "end_time": "2025-04-27T17:37:20.596672Z",
     "start_time": "2025-04-27T17:37:20.568070Z"
    }
   },
   "cell_type": "code",
   "source": [
    "count = data_frame.clickbait.value_counts()\n",
    "print(count)\n",
    "print((count / count.sum() * 100).round(1).astype(str) + \"%\")"
   ],
   "id": "e5e3b7e84366a641",
   "outputs": [
    {
     "name": "stdout",
     "output_type": "stream",
     "text": [
      "clickbait\n",
      "False    41401\n",
      "True     25268\n",
      "Name: count, dtype: int64\n",
      "clickbait\n",
      "False    62.1%\n",
      "True     37.9%\n",
      "Name: count, dtype: object\n"
     ]
    }
   ],
   "execution_count": 7
  },
  {
   "metadata": {},
   "cell_type": "markdown",
   "source": "## Sample Comments",
   "id": "4806f41fe4e82fc"
  },
  {
   "metadata": {
    "ExecuteTime": {
     "end_time": "2025-04-27T17:39:30.338357Z",
     "start_time": "2025-04-27T17:39:30.288511Z"
    }
   },
   "cell_type": "code",
   "source": [
    "# show a few positive and negative examples\n",
    "print(\"=== Clickbait examples ===\")\n",
    "print(data_frame[data_frame.clickbait].text.sample(5, random_state=1).tolist())\n",
    "\n",
    "print(\"\\n=== Non-clickbait examples ===\")\n",
    "print(data_frame[~data_frame.clickbait].text.sample(5, random_state=1).tolist())\n"
   ],
   "id": "3baa59303687bc8c",
   "outputs": [
    {
     "name": "stdout",
     "output_type": "stream",
     "text": [
      "=== Clickbait examples ===\n",
      "['I’m dying', 'My arms can&#39;t handle it 😩', 'I hardly ever eat carbs and I’m struggling to lose weight I barely even eat anything and I still can’t lose weight all I drink is water and I have my morning coffee', 'Cloe= 30 second exercise <br>Me= skips last 3 seconds', 'I just wanna reduce carbs since I notice that they&#39;re so high in calories.']\n",
      "\n",
      "=== Non-clickbait examples ===\n",
      "['i think this is the old spice guy when he was a baby.', 'Like the before', '@mariannevinas123 yeah it does. ive already got an ok 6 pack but the lower abs is my problem and i can honestly say in 12 times of me doing this workout every other day ive seen fast results all over :) so id keep on this and give it chance to work ', 'What if you can&#39;t do a full body workout..?? I have fibromyalgia, body pain, chronic pain, DDD, Scoliosis of the spine, etc. If i try to do basic stretching, my muscles start hurting right away. It&#39;s been ALONG TIME since I&#39;ve slept 9-6. <br>I wish I could sleep straight through but, my insomnia wakes me up...Help Dr. Berg..!!🥴🥴🥺🥺😮\\u200d💨', '@gosple2  i meant my back pains wen i do abs and wen i stoped pain stops']\n"
     ]
    }
   ],
   "execution_count": 9
  }
 ],
 "metadata": {
  "kernelspec": {
   "display_name": "Python 3",
   "language": "python",
   "name": "python3"
  },
  "language_info": {
   "codemirror_mode": {
    "name": "ipython",
    "version": 2
   },
   "file_extension": ".py",
   "mimetype": "text/x-python",
   "name": "python",
   "nbconvert_exporter": "python",
   "pygments_lexer": "ipython2",
   "version": "2.7.6"
  }
 },
 "nbformat": 4,
 "nbformat_minor": 5
}
